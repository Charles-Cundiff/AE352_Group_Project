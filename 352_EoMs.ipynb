{
 "cells": [
  {
   "cell_type": "code",
   "execution_count": 2,
   "metadata": {
    "colab": {
     "base_uri": "https://localhost:8080/",
     "height": 78
    },
    "id": "xLJZ2j9qfz0z",
    "outputId": "5f7bd572-0fb4-43e0-949f-192bf9804d4c"
   },
   "outputs": [
    {
     "data": {
      "text/latex": [
       "$\\displaystyle \\left[\\begin{matrix}\\cos{\\left(\\psi \\right)} \\cos{\\left(\\theta \\right)} & \\sin{\\left(\\phi \\right)} \\sin{\\left(\\theta \\right)} \\cos{\\left(\\psi \\right)} - \\sin{\\left(\\psi \\right)} \\cos{\\left(\\phi \\right)} & \\sin{\\left(\\phi \\right)} \\sin{\\left(\\psi \\right)} + \\sin{\\left(\\theta \\right)} \\cos{\\left(\\phi \\right)} \\cos{\\left(\\psi \\right)}\\\\\\sin{\\left(\\psi \\right)} \\cos{\\left(\\theta \\right)} & \\sin{\\left(\\phi \\right)} \\sin{\\left(\\psi \\right)} \\sin{\\left(\\theta \\right)} + \\cos{\\left(\\phi \\right)} \\cos{\\left(\\psi \\right)} & - \\sin{\\left(\\phi \\right)} \\cos{\\left(\\psi \\right)} + \\sin{\\left(\\psi \\right)} \\sin{\\left(\\theta \\right)} \\cos{\\left(\\phi \\right)}\\\\- \\sin{\\left(\\theta \\right)} & \\sin{\\left(\\phi \\right)} \\cos{\\left(\\theta \\right)} & \\cos{\\left(\\phi \\right)} \\cos{\\left(\\theta \\right)}\\end{matrix}\\right]$"
      ],
      "text/plain": [
       "Matrix([\n",
       "[cos(psi)*cos(theta), sin(phi)*sin(theta)*cos(psi) - sin(psi)*cos(phi),  sin(phi)*sin(psi) + sin(theta)*cos(phi)*cos(psi)],\n",
       "[sin(psi)*cos(theta), sin(phi)*sin(psi)*sin(theta) + cos(phi)*cos(psi), -sin(phi)*cos(psi) + sin(psi)*sin(theta)*cos(phi)],\n",
       "[        -sin(theta),                              sin(phi)*cos(theta),                               cos(phi)*cos(theta)]])"
      ]
     },
     "execution_count": 2,
     "metadata": {},
     "output_type": "execute_result"
    }
   ],
   "source": [
    "from sympy import *\n",
    "\n",
    "m = symbols('m') # mass\n",
    "l = symbols('l') #length of arm\n",
    "g = symbols('g') #gravity\n",
    "t = symbols('t') # time\n",
    "Ix = symbols('Ix') # Moment of Inertia X-component\n",
    "Iy = symbols('Iy') # Moment of Inertia Y-component\n",
    "Iz = symbols('Iz') # Moment of Inertia Z-component\n",
    "k = symbols('k')\n",
    "\n",
    "Fg = Matrix([[0],[0],[g*m]])\n",
    "\n",
    "p_x, p_y, p_z = symbols('p_x, p_y, p_z') # components of position\n",
    "psi, theta, phi = symbols('psi, theta, phi') # yaw, pitch and roll\n",
    "v_x, v_y, v_z = symbols('v_x, v_y, v_z') # components of linear velocity\n",
    "w_x, w_y, w_z = symbols('w_x, w_y, w_z') # components of angular velocity\n",
    "\n",
    "v_in_body = Matrix([v_x, v_y, v_z])\n",
    "w_in_body = Matrix([w_x, w_y, w_z])\n",
    "\n",
    "Rz = Matrix([[cos(psi), -sin(psi), 0], [sin(psi), cos(psi), 0], [0, 0, 1]])\n",
    "Ry = Matrix([[cos(theta), 0, sin(theta)], [0, 1, 0], [-sin(theta), 0, cos(theta)]])\n",
    "Rx = Matrix([[1, 0, 0], [0, cos(phi), -sin(phi)], [0, sin(phi), cos(phi)]])\n",
    "R_body_in_world = Rz @ Ry @ Rx\n",
    "\n",
    "\n",
    "R_body_in_world"
   ]
  },
  {
   "cell_type": "code",
   "execution_count": 3,
   "metadata": {
    "colab": {
     "base_uri": "https://localhost:8080/",
     "height": 78
    },
    "id": "ubu2wcgRf4Cq",
    "outputId": "4ca8f41e-007c-46ff-9aae-d3e4d45f6592"
   },
   "outputs": [
    {
     "data": {
      "text/latex": [
       "$\\displaystyle \\left[\\begin{matrix}1 & 0 & - \\sin{\\left(\\theta \\right)}\\\\0 & \\cos{\\left(\\phi \\right)} & \\sin{\\left(\\phi \\right)} \\cos{\\left(\\theta \\right)}\\\\0 & - \\sin{\\left(\\phi \\right)} & \\cos{\\left(\\phi \\right)} \\cos{\\left(\\theta \\right)}\\end{matrix}\\right]$"
      ],
      "text/plain": [
       "Matrix([\n",
       "[1,         0,         -sin(theta)],\n",
       "[0,  cos(phi), sin(phi)*cos(theta)],\n",
       "[0, -sin(phi), cos(phi)*cos(theta)]])"
      ]
     },
     "execution_count": 3,
     "metadata": {},
     "output_type": "execute_result"
    }
   ],
   "source": [
    "ex = Matrix([[1], [0], [0]])\n",
    "ey = Matrix([[0], [1], [0]])\n",
    "ez = Matrix([[0], [0], [1]])\n",
    "#M = simplify(Matrix.hstack((Ry @ Rx).T @ ez, Rx.T @ ey, ex).inv(), full=True)\n",
    "\n",
    "\n",
    "M_b = simplify(Matrix.hstack(ex,Rx.T @ ey, (Ry @ Rx).T @ ez), full = True)\n",
    "\n",
    "M_I = M_b.inv()\n",
    "\n",
    "Moment_of_Inertia = Matrix([[Ix,   0,   0],\n",
    "                            [  0, Iy,   0],\n",
    "                            [  0,   0, Iz]])\n",
    "\n",
    "\n",
    "A, rho = symbols('A, rho')\n",
    "\n",
    "\n",
    "T_x, T_y, T_z, f_z = symbols('T_x, T_y, T_z, f_z')\n",
    "w_1,w_2,w_3,w_4,b = symbols('w_1,w_2,w_3,w_4,b')\n",
    "\n",
    "#b = 1.140*10**(-7)\n",
    "\n",
    "f_z = k *(w_1**2 + w_2**2 + w_3**2 + w_4**2)\n",
    "T_x = k * l * (-w_2**2 + w_4**2)\n",
    "T_y = k * l * (-w_1**2 + w_3**2)\n",
    "T_z = b*(w_1**2 + w_2**2 + w_3**2 + w_4**2)\n",
    "\n",
    "\n",
    "Total_T = Matrix([[T_x],[T_y],[T_z]])\n",
    "\n",
    "Total_F = Matrix([[0],[0],[f_z]])\n",
    "\n",
    "M_b"
   ]
  },
  {
   "cell_type": "code",
   "execution_count": 4,
   "metadata": {
    "id": "cBeHK3HTf6Dc"
   },
   "outputs": [],
   "source": [
    "grav = symbols('g')\n",
    "mass = symbols('m')    # The mass of the quadrotor in kg\n",
    "Ixx = symbols('Ix')  # The moment of inertia of the quadrotor in\n",
    "Iyy = symbols('Iy')  # The mass of the quadrotor in kg\n",
    "Izz = symbols('Iz')  # The mass of the quadrotor in kg"
   ]
  },
  {
   "cell_type": "code",
   "execution_count": 5,
   "metadata": {
    "id": "FjcYGdy8gJqJ"
   },
   "outputs": [],
   "source": [
    "import sympy as sym\n",
    "\n",
    "# Define position\n",
    "px_inW, py_inW, pz_inW = sym.symbols('p_x, p_y, p_z')\n",
    "p_inW = sym.Matrix([[px_inW],\n",
    "                    [py_inW],\n",
    "                    [pz_inW]])\n",
    "\n",
    "# Define velocity\n",
    "vx_inB, vy_inB, vz_inB = sym.symbols('v_x, v_y, v_z')\n",
    "v_inB = sym.Matrix([[vx_inB],\n",
    "                    [vy_inB],\n",
    "                    [vz_inB]])\n",
    "\n",
    "# Define roll (phi), pitch (theta), and yaw (psi) angles\n",
    "phi, theta, psi = sym.symbols('phi, theta, psi')\n",
    "\n",
    "# Define angular velocities\n",
    "wx_inB, wy_inB, wz_inB = sym.symbols('omega_x, omega_y, omega_z')\n",
    "w_inB = sym.Matrix([[wx_inB],\n",
    "                    [wy_inB],\n",
    "                    [wz_inB]])\n",
    "\n",
    "# Define roll, pitch, and yaw rotation matrices that describe the bus's orientation in the\n",
    "# world frame\n",
    "Rx = sym.Matrix([[1,            0,             0],\n",
    "                 [0, sym.cos(phi), -sym.sin(phi)],\n",
    "                 [0, sym.sin(phi),  sym.cos(phi)]])\n",
    "Ry = sym.Matrix([[ sym.cos(theta), 0, sym.sin(theta)],\n",
    "                 [              0, 1,              0],\n",
    "                 [-sym.sin(theta), 0, sym.cos(theta)]])\n",
    "Rz = sym.Matrix([[sym.cos(psi), -sym.sin(psi), 0],\n",
    "                 [sym.sin(psi),  sym.cos(psi), 0],\n",
    "                 [           0,             0, 1]])\n",
    "R_ofB_inW = Rz @ Ry @ Rx\n",
    "R_ofW_inB = R_ofB_inW.T"
   ]
  },
  {
   "cell_type": "code",
   "execution_count": 6,
   "metadata": {
    "id": "1yww9TORgaPN"
   },
   "outputs": [],
   "source": [
    "# Define inputs\n",
    "taux_inB, tauy_inB, tauz_inB, fz_inB = sym.symbols('tau_x, tau_y, tau_z, F_T')\n",
    "\n",
    "# Get the net torque vector\n",
    "tau_inB = sym.Matrix([[taux_inB],\n",
    "                      [tauy_inB],\n",
    "                      [tauz_inB]])\n",
    "tau_inB = sym.simplify(tau_inB)\n",
    "\n",
    "# Get the gravity force and convert to body coordiantes\n",
    "grav_inW = sym.Matrix([[0.],\n",
    "                       [0.],\n",
    "                       [-mass * grav]])\n",
    "grav_inB = R_ofW_inB @ grav_inW\n",
    "\n",
    "# Get the net force vector\n",
    "f_inB = grav_inB + sym.Matrix([[0.],\n",
    "                               [0.],\n",
    "                               [fz_inB]])\n",
    "f_inB = sym.simplify(f_inB)"
   ]
  },
  {
   "cell_type": "code",
   "execution_count": 7,
   "metadata": {
    "id": "vPRiM6nxgdmu"
   },
   "outputs": [],
   "source": [
    "# Assemble the moment of inertia matrix\n",
    "I_inB = sym.Matrix([[Ixx, 0.,  0.],\n",
    "                    [0.,  Iyy, 0.],\n",
    "                    [0.,  0.,  Izz]])"
   ]
  },
  {
   "cell_type": "code",
   "execution_count": 8,
   "metadata": {
    "id": "JZCrnKV7gfgl"
   },
   "outputs": [],
   "source": [
    "v_inW = R_ofB_inW @ v_inB\n",
    "xyz_dot = sym.simplify(v_inW)\n",
    "\n",
    "v_inB_dot = (1 / mass) * (f_inB - w_inB.cross(mass * v_inB))\n",
    "v_inB_dot = sym.simplify(v_inB_dot)\n",
    "\n",
    "M = sym.Matrix.hstack(ex, Rx.T@ey, (Ry@Rx).T@ez)\n",
    "\n",
    "M_inv = sym.simplify(M.inv())\n",
    "\n",
    "rpy_dot = sym.simplify(M_inv@w_inB)\n",
    "\n",
    "w_inB_dot = I_inB.inv() @ (tau_inB - w_inB.cross(I_inB@w_inB))\n",
    "w_inB_dot = sym.simplify(w_inB_dot)\n",
    "\n",
    "#Assmeble all EoMs derived above\n",
    "f = sym.Matrix.vstack(xyz_dot,\n",
    "                      v_inB_dot,\n",
    "                      rpy_dot,\n",
    "                      w_inB_dot)"
   ]
  },
  {
   "cell_type": "code",
   "execution_count": 9,
   "metadata": {
    "colab": {
     "base_uri": "https://localhost:8080/",
     "height": 277
    },
    "id": "SuB06bXQg3rf",
    "outputId": "2ce5c462-17b5-4d08-8e5b-9cdcbf8904a0"
   },
   "outputs": [
    {
     "data": {
      "text/latex": [
       "$\\displaystyle \\left[\\begin{matrix}v_{x} \\cos{\\left(\\psi \\right)} \\cos{\\left(\\theta \\right)} + v_{y} \\left(\\sin{\\left(\\phi \\right)} \\sin{\\left(\\theta \\right)} \\cos{\\left(\\psi \\right)} - \\sin{\\left(\\psi \\right)} \\cos{\\left(\\phi \\right)}\\right) + v_{z} \\left(\\sin{\\left(\\phi \\right)} \\sin{\\left(\\psi \\right)} + \\sin{\\left(\\theta \\right)} \\cos{\\left(\\phi \\right)} \\cos{\\left(\\psi \\right)}\\right)\\\\v_{x} \\sin{\\left(\\psi \\right)} \\cos{\\left(\\theta \\right)} + v_{y} \\left(\\sin{\\left(\\phi \\right)} \\sin{\\left(\\psi \\right)} \\sin{\\left(\\theta \\right)} + \\cos{\\left(\\phi \\right)} \\cos{\\left(\\psi \\right)}\\right) - v_{z} \\left(\\sin{\\left(\\phi \\right)} \\cos{\\left(\\psi \\right)} - \\sin{\\left(\\psi \\right)} \\sin{\\left(\\theta \\right)} \\cos{\\left(\\phi \\right)}\\right)\\\\- v_{x} \\sin{\\left(\\theta \\right)} + v_{y} \\sin{\\left(\\phi \\right)} \\cos{\\left(\\theta \\right)} + v_{z} \\cos{\\left(\\phi \\right)} \\cos{\\left(\\theta \\right)}\\\\g \\sin{\\left(\\theta \\right)} - \\omega_{y} v_{z} + \\omega_{z} v_{y}\\\\- g \\sin{\\left(\\phi \\right)} \\cos{\\left(\\theta \\right)} + \\omega_{x} v_{z} - \\omega_{z} v_{x}\\\\\\frac{F_{T}}{m} - g \\cos{\\left(\\phi \\right)} \\cos{\\left(\\theta \\right)} - \\omega_{x} v_{y} + \\omega_{y} v_{x}\\\\\\omega_{x} + \\omega_{y} \\sin{\\left(\\phi \\right)} \\tan{\\left(\\theta \\right)} + \\omega_{z} \\cos{\\left(\\phi \\right)} \\tan{\\left(\\theta \\right)}\\\\\\omega_{y} \\cos{\\left(\\phi \\right)} - \\omega_{z} \\sin{\\left(\\phi \\right)}\\\\\\frac{\\omega_{y} \\sin{\\left(\\phi \\right)} + \\omega_{z} \\cos{\\left(\\phi \\right)}}{\\cos{\\left(\\theta \\right)}}\\\\\\frac{Iy \\omega_{y} \\omega_{z} - Iz \\omega_{y} \\omega_{z} + \\tau_{x}}{Ix}\\\\\\frac{- Ix \\omega_{x} \\omega_{z} + Iz \\omega_{x} \\omega_{z} + \\tau_{y}}{Iy}\\\\\\frac{Ix \\omega_{x} \\omega_{y} - Iy \\omega_{x} \\omega_{y} + \\tau_{z}}{Iz}\\end{matrix}\\right]$"
      ],
      "text/plain": [
       "Matrix([\n",
       "[v_x*cos(psi)*cos(theta) + v_y*(sin(phi)*sin(theta)*cos(psi) - sin(psi)*cos(phi)) + v_z*(sin(phi)*sin(psi) + sin(theta)*cos(phi)*cos(psi))],\n",
       "[v_x*sin(psi)*cos(theta) + v_y*(sin(phi)*sin(psi)*sin(theta) + cos(phi)*cos(psi)) - v_z*(sin(phi)*cos(psi) - sin(psi)*sin(theta)*cos(phi))],\n",
       "[                                                                      -v_x*sin(theta) + v_y*sin(phi)*cos(theta) + v_z*cos(phi)*cos(theta)],\n",
       "[                                                                                                 g*sin(theta) - omega_y*v_z + omega_z*v_y],\n",
       "[                                                                                       -g*sin(phi)*cos(theta) + omega_x*v_z - omega_z*v_x],\n",
       "[                                                                                F_T/m - g*cos(phi)*cos(theta) - omega_x*v_y + omega_y*v_x],\n",
       "[                                                                      omega_x + omega_y*sin(phi)*tan(theta) + omega_z*cos(phi)*tan(theta)],\n",
       "[                                                                                                      omega_y*cos(phi) - omega_z*sin(phi)],\n",
       "[                                                                                         (omega_y*sin(phi) + omega_z*cos(phi))/cos(theta)],\n",
       "[                                                                                     (Iy*omega_y*omega_z - Iz*omega_y*omega_z + tau_x)/Ix],\n",
       "[                                                                                    (-Ix*omega_x*omega_z + Iz*omega_x*omega_z + tau_y)/Iy],\n",
       "[                                                                                     (Ix*omega_x*omega_y - Iy*omega_x*omega_y + tau_z)/Iz]])"
      ]
     },
     "execution_count": 9,
     "metadata": {},
     "output_type": "execute_result"
    }
   ],
   "source": [
    "sym.N(f,3)"
   ]
  },
  {
   "cell_type": "code",
   "execution_count": null,
   "metadata": {
    "id": "pH_YjyOng6u0"
   },
   "outputs": [],
   "source": []
  }
 ],
 "metadata": {
  "colab": {
   "provenance": []
  },
  "kernelspec": {
   "display_name": "base",
   "language": "python",
   "name": "python3"
  },
  "language_info": {
   "codemirror_mode": {
    "name": "ipython",
    "version": 3
   },
   "file_extension": ".py",
   "mimetype": "text/x-python",
   "name": "python",
   "nbconvert_exporter": "python",
   "pygments_lexer": "ipython3",
   "version": "3.11.5"
  }
 },
 "nbformat": 4,
 "nbformat_minor": 0
}
